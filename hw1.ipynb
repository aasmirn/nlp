{
  "nbformat": 4,
  "nbformat_minor": 0,
  "metadata": {
    "kernelspec": {
      "display_name": "Python 3",
      "language": "python",
      "name": "python3"
    },
    "language_info": {
      "codemirror_mode": {
        "name": "ipython",
        "version": 3
      },
      "file_extension": ".py",
      "mimetype": "text/x-python",
      "name": "python",
      "nbconvert_exporter": "python",
      "pygments_lexer": "ipython3",
      "version": "3.6.8"
    },
    "colab": {
      "name": "hw1.ipynb",
      "provenance": [],
      "collapsed_sections": []
    }
  },
  "cells": [
    {
      "cell_type": "markdown",
      "metadata": {
        "id": "ks0H2cTKGsoP",
        "colab_type": "text"
      },
      "source": [
        "# Определение языка и VK API"
      ]
    },
    {
      "cell_type": "markdown",
      "metadata": {
        "id": "BeC5PTyFGsoT",
        "colab_type": "text"
      },
      "source": [
        "В данном задании вам нужно будет:\n",
        "\n",
        "* используя API Вконтакте, скачать комментарии к первым ста постам из пяти сообществ\n",
        "* натренировать модель распознавания языков на статьях из Википедии.\n",
        "* распознать язык всех комментариев, где в тексте есть 10 и более символов, и построить статистику"
      ]
    },
    {
      "cell_type": "markdown",
      "metadata": {
        "id": "UGi0p8f7GsoU",
        "colab_type": "text"
      },
      "source": [
        "## VK API"
      ]
    },
    {
      "cell_type": "markdown",
      "metadata": {
        "id": "e4x15VgyGsoV",
        "colab_type": "text"
      },
      "source": [
        "Для подключения к ВКонтакте мы будем использовать VK API. Здесь есть документация к этой библиотеке https://vk-api.readthedocs.io/en/latest/"
      ]
    },
    {
      "cell_type": "code",
      "metadata": {
        "id": "VlrMfPYkGsoW",
        "colab_type": "code",
        "colab": {}
      },
      "source": [
        "!pip install vk_api"
      ],
      "execution_count": 0,
      "outputs": []
    },
    {
      "cell_type": "code",
      "metadata": {
        "scrolled": true,
        "id": "uWlOvtScGsob",
        "colab_type": "code",
        "colab": {}
      },
      "source": [
        "import vk_api\n",
        "\n",
        "# здесь нужно ввести данные своего аккаунта\n",
        "# когда будете сдавать, не забудьте убрать эти две строчки из ноутбука\n",
        "user = '' # вставьте сюда свой номер телефона\n",
        "password = '' # вставьте сюда свой пароль\n",
        "\n",
        "# авторизация\n",
        "vk_session = vk_api.VkApi(login=user, password=password)\n",
        "vk_session.auth()\n",
        "\n",
        "vk = vk_session.get_api() # объект с API"
      ],
      "execution_count": 0,
      "outputs": []
    },
    {
      "cell_type": "markdown",
      "metadata": {
        "id": "G5uv0kq9Gsoe",
        "colab_type": "text"
      },
      "source": [
        "Получить записи со страницы можно с помощью метода `wall.get`. Он принимает параметр `domain` — короткое имя пользователя или сообщества — и `count` — количество записей, которое вы хотите получить (максимум — 100). По Список методов для работы со стенами: https://vk.com/dev/wall"
      ]
    },
    {
      "cell_type": "markdown",
      "metadata": {
        "id": "5YR8OekaGsof",
        "colab_type": "text"
      },
      "source": [
        "Например, вот так можно получить последние две записи с вот этой страницы https://vk.com/futureisnow. Выдача представляет собой словарь, в котором в поле `items` записан список словарей, содержащий информацию о каждой из записи. "
      ]
    },
    {
      "cell_type": "code",
      "metadata": {
        "scrolled": true,
        "id": "4B-k9h8FGsog",
        "colab_type": "code",
        "colab": {}
      },
      "source": [
        "vk.wall.get(domain=\"futureisnow\", count=2)"
      ],
      "execution_count": 0,
      "outputs": []
    },
    {
      "cell_type": "markdown",
      "metadata": {
        "id": "FTRe9fDoGsoi",
        "colab_type": "text"
      },
      "source": [
        "С помощью метода `groups.getById` можно получить информацию о сообществе, в том числе его id."
      ]
    },
    {
      "cell_type": "code",
      "metadata": {
        "id": "qXMgVLKbGsoj",
        "colab_type": "code",
        "colab": {}
      },
      "source": [
        "vk.groups.getById(group_ids=\"futureisnow\")"
      ],
      "execution_count": 0,
      "outputs": []
    },
    {
      "cell_type": "markdown",
      "metadata": {
        "id": "T455HsKcGsom",
        "colab_type": "text"
      },
      "source": [
        "Скачайте информацию о последних ста записях в следующих пабликах: https://vk.com/futureisnow, https://vk.com/eternalclassic, https://vk.com/ukrlit_memes, https://vk.com/ukrainer_net, https://vk.com/amanzohel, https://vk.com/barg_kurumk_culture"
      ]
    },
    {
      "cell_type": "code",
      "metadata": {
        "id": "yNue1XghGsom",
        "colab_type": "code",
        "colab": {}
      },
      "source": [
        "# список domain'ов, чтобы вам не копировать их самими :)\n",
        "publics = [\"futureisnow\",\n",
        "           \"eternalclassic\",\n",
        "           \"ukrlit_memes\",\n",
        "           \"ukrainer_net\",\n",
        "           \"amanzohel\",\n",
        "           \"barg_kurumk_culture\"]"
      ],
      "execution_count": 0,
      "outputs": []
    },
    {
      "cell_type": "code",
      "metadata": {
        "id": "kMQpoZePGsop",
        "colab_type": "code",
        "colab": {}
      },
      "source": [
        "items = {} # ключи — это паблики\n",
        "\n",
        "for public in publics:\n",
        "  items[public] = vk.wall.get(domain=public, count=100)"
      ],
      "execution_count": 0,
      "outputs": []
    },
    {
      "cell_type": "markdown",
      "metadata": {
        "id": "VsPjbEK8Gsos",
        "colab_type": "text"
      },
      "source": [
        "Найдите в документации (https://vk.com/dev/wall) метод для получения комментариев и получите первые сто комментариев каждого поста из выборки для каждого паблика. Выкидывайте все комментарии, которые содержат меньше 10 символов."
      ]
    },
    {
      "cell_type": "code",
      "metadata": {
        "id": "xNC1l2TFZRT0",
        "colab_type": "code",
        "colab": {}
      },
      "source": [
        "import re \n",
        "import string"
      ],
      "execution_count": 0,
      "outputs": []
    },
    {
      "cell_type": "code",
      "metadata": {
        "id": "7_CldbPaj9Fo",
        "colab_type": "code",
        "colab": {}
      },
      "source": [
        "emoji = re.compile('[\\U00010000-\\U0010ffff]', flags=re.UNICODE)\n",
        "\n",
        "def clean(text):\n",
        "  text = emoji.sub('', text)\n",
        "  for s in trash:\n",
        "    text = text.replace(s, '')\n",
        "  return text"
      ],
      "execution_count": 0,
      "outputs": []
    },
    {
      "cell_type": "code",
      "metadata": {
        "id": "TsKpA94nGsot",
        "colab_type": "code",
        "colab": {}
      },
      "source": [
        "corpora = {}\n",
        "\n",
        "trash = string.punctuation\n",
        "\n",
        "for k in items.keys():\n",
        "  public_corpora = []\n",
        "  for post in items[k]['items']:\n",
        "    comments = vk.wall.getComments(owner_id=post['owner_id'], post_id=post['id'])\n",
        "    for comment in comments['items']:\n",
        "      try:\n",
        "        text = clean(comment['text'])\n",
        "        if len(text) >= 10:\n",
        "          public_corpora.append(text)\n",
        "      except KeyError:\n",
        "        pass\n",
        "  corpora[k] = public_corpora\n"
      ],
      "execution_count": 0,
      "outputs": []
    },
    {
      "cell_type": "code",
      "metadata": {
        "id": "hkCS3uANtKPM",
        "colab_type": "code",
        "colab": {
          "base_uri": "https://localhost:8080/",
          "height": 119
        },
        "outputId": "a1edc847-e6ca-4afa-a513-8e663d3bee9b"
      },
      "source": [
        "for k in corpora.keys():\n",
        "  print(k, len(corpora[k]))"
      ],
      "execution_count": 55,
      "outputs": [
        {
          "output_type": "stream",
          "text": [
            "futureisnow 744\n",
            "eternalclassic 539\n",
            "ukrlit_memes 213\n",
            "ukrainer_net 191\n",
            "amanzohel 111\n",
            "barg_kurumk_culture 130\n"
          ],
          "name": "stdout"
        }
      ]
    },
    {
      "cell_type": "markdown",
      "metadata": {
        "id": "-4nOjECfGsox",
        "colab_type": "text"
      },
      "source": [
        "**Задание со звездочкой:** вы могли заметить, что если обращаться к каждому посту отдельно, то все занимает довольно продолжительное время (около пяти минут). Найдите в документации vk_api способ сделать это быстрее."
      ]
    },
    {
      "cell_type": "code",
      "metadata": {
        "id": "wW0192lRGsoy",
        "colab_type": "code",
        "colab": {}
      },
      "source": [
        "corpora = {}\n",
        "\n",
        "# ваш улучшенный код"
      ],
      "execution_count": 0,
      "outputs": []
    },
    {
      "cell_type": "markdown",
      "metadata": {
        "id": "IS9Daau_Gso0",
        "colab_type": "text"
      },
      "source": [
        "## Тренировка моделей"
      ]
    },
    {
      "cell_type": "markdown",
      "metadata": {
        "id": "p4Q6NVGOGso2",
        "colab_type": "text"
      },
      "source": [
        "В наших комментариях встречались русский, украинский, английский и бурятский."
      ]
    },
    {
      "cell_type": "code",
      "metadata": {
        "id": "lQpHkj1SGso3",
        "colab_type": "code",
        "colab": {}
      },
      "source": [
        "langs = {'ru', 'uk', 'en', 'bxr'}"
      ],
      "execution_count": 0,
      "outputs": []
    },
    {
      "cell_type": "markdown",
      "metadata": {
        "id": "HLoWPitZGso5",
        "colab_type": "text"
      },
      "source": [
        "Скачайте документы, на которых вы будете обучать свои модели. Для наших целей хорошо иметь для каждого языка корпус размером около 50 статей."
      ]
    },
    {
      "cell_type": "code",
      "metadata": {
        "id": "Mn-e0U1RGso6",
        "colab_type": "code",
        "colab": {}
      },
      "source": [
        "!pip install wikipedia"
      ],
      "execution_count": 0,
      "outputs": []
    },
    {
      "cell_type": "code",
      "metadata": {
        "id": "tlqd-bbEeeaj",
        "colab_type": "code",
        "colab": {}
      },
      "source": [
        "import wikipedia\n",
        "from collections import Counter\n",
        "import nltk"
      ],
      "execution_count": 0,
      "outputs": []
    },
    {
      "cell_type": "code",
      "metadata": {
        "id": "v6gzkHYCUilw",
        "colab_type": "code",
        "colab": {}
      },
      "source": [
        "def get_texts_for_lang(lang, n):\n",
        "    wiki_content = []\n",
        "    wikipedia.set_lang(lang)\n",
        "    pages = wikipedia.random(n)\n",
        "    for page_name in pages:\n",
        "        try:\n",
        "            page = wikipedia.page(page_name)\n",
        "            wiki_content.append(\"%s\\n%s\" % (page.title, page.content.replace('=', '')))\n",
        "        except wikipedia.exceptions.WikipediaException:\n",
        "            print(\"Skip %s\" % page_name)\n",
        "    return wiki_content"
      ],
      "execution_count": 0,
      "outputs": []
    },
    {
      "cell_type": "code",
      "metadata": {
        "id": "VLGCWEuDYHEG",
        "colab_type": "code",
        "colab": {
          "base_uri": "https://localhost:8080/",
          "height": 377
        },
        "outputId": "f33fba9d-270e-40e8-c789-b8dc931e365b"
      },
      "source": [
        "wiki_texts = {}\n",
        "for lang in langs:\n",
        "    wiki_texts[lang] = get_texts_for_lang(lang, 50)\n",
        "    \n",
        "for k in wiki_texts.keys():    \n",
        "  print(k, len(wiki_texts[k]))"
      ],
      "execution_count": 19,
      "outputs": [
        {
          "output_type": "stream",
          "text": [
            "/usr/local/lib/python3.6/dist-packages/wikipedia/wikipedia.py:389: UserWarning: No parser was explicitly specified, so I'm using the best available HTML parser for this system (\"lxml\"). This usually isn't a problem, but if you run this code on another system, or in a different virtual environment, it may use a different parser and behave differently.\n",
            "\n",
            "The code that caused this warning is on line 389 of the file /usr/local/lib/python3.6/dist-packages/wikipedia/wikipedia.py. To get rid of this warning, pass the additional argument 'features=\"lxml\"' to the BeautifulSoup constructor.\n",
            "\n",
            "  lis = BeautifulSoup(html).find_all('li')\n"
          ],
          "name": "stderr"
        },
        {
          "output_type": "stream",
          "text": [
            "Skip Андрій Кравченко (значення)\n",
            "Skip Конта (значення)\n",
            "Skip Талмуд-тора\n",
            "Skip Смелов, Сергей Владиславович\n",
            "Skip Кряжево\n",
            "Skip Вэлли (округ)\n",
            "Skip Райнфельден (значения)\n",
            "Skip Rasamna Ala Al-Qalb Wajh Al-Watan\n",
            "Skip Staunton, Gloucestershire\n",
            "Skip Бурхан\n",
            "Skip Сэлэнгэ\n",
            "uk 47\n",
            "ru 46\n",
            "en 48\n",
            "bxr 48\n"
          ],
          "name": "stdout"
        }
      ]
    },
    {
      "cell_type": "markdown",
      "metadata": {
        "id": "TqzYlbX4Gso9",
        "colab_type": "text"
      },
      "source": [
        "Сделайте определялку на частотах слов."
      ]
    },
    {
      "cell_type": "code",
      "metadata": {
        "id": "YnE5E3euGso-",
        "colab_type": "code",
        "colab": {}
      },
      "source": [
        "nltk.download(\"punkt\")\n",
        "\n",
        "def collect_freqlist(wiki_pages, max_len=100):\n",
        "    freqlist = Counter()\n",
        "    for text in wiki_pages:\n",
        "        for word in nltk.word_tokenize(text.lower()):\n",
        "            if word.isalpha():\n",
        "                freqlist[word] += 1\n",
        "    return dict(freqlist.most_common(max_len))\n",
        "  \n",
        "freq_lists = {}\n",
        "for lang in langs:\n",
        "    freq_lists[lang] = collect_freqlist(wiki_texts[lang])"
      ],
      "execution_count": 0,
      "outputs": []
    },
    {
      "cell_type": "code",
      "metadata": {
        "id": "xKXpd2CCd_cx",
        "colab_type": "code",
        "colab": {}
      },
      "source": [
        "def lang_detect_freq(freq_lists, text):\n",
        "    counts = Counter()\n",
        "    for lang, freq_list in freq_lists.items():\n",
        "        freq_list = Counter(freq_list)\n",
        "        for word in nltk.word_tokenize(text):\n",
        "            counts[lang] += int(freq_list[word] > 0)\n",
        "    return counts.most_common()"
      ],
      "execution_count": 0,
      "outputs": []
    },
    {
      "cell_type": "markdown",
      "metadata": {
        "id": "5_Sb1EvyGspB",
        "colab_type": "text"
      },
      "source": [
        "Сделайте определялку на символьных энграммах."
      ]
    },
    {
      "cell_type": "code",
      "metadata": {
        "id": "Wg5_ce28GspC",
        "colab_type": "code",
        "colab": {
          "base_uri": "https://localhost:8080/",
          "height": 306
        },
        "outputId": "cb28a214-cb67-42cc-a225-612249fde537"
      },
      "source": [
        "from sklearn import feature_extraction\n",
        "from sklearn import pipeline\n",
        "from sklearn import naive_bayes\n",
        "import numpy as np\n",
        "\n",
        "vectorizer = feature_extraction.text.TfidfVectorizer(ngram_range=(1, 5), analyzer='char')\n",
        "clf = pipeline.Pipeline([\n",
        "    ('vctr', feature_extraction.text.TfidfVectorizer(ngram_range=(1, 2), analyzer='char')),\n",
        "    ('clf', naive_bayes.MultinomialNB())\n",
        "])\n",
        "\n",
        "all_texts = []\n",
        "lang_indices = []\n",
        "for lang in wiki_texts:\n",
        "    all_texts.extend(wiki_texts[lang])\n",
        "    lang_indices.extend([lang]*len(wiki_texts[lang]))\n",
        "    \n",
        "clf.fit(np.array(all_texts), np.array(lang_indices))"
      ],
      "execution_count": 92,
      "outputs": [
        {
          "output_type": "execute_result",
          "data": {
            "text/plain": [
              "Pipeline(memory=None,\n",
              "         steps=[('vctr',\n",
              "                 TfidfVectorizer(analyzer='char', binary=False,\n",
              "                                 decode_error='strict',\n",
              "                                 dtype=<class 'numpy.float64'>,\n",
              "                                 encoding='utf-8', input='content',\n",
              "                                 lowercase=True, max_df=1.0, max_features=None,\n",
              "                                 min_df=1, ngram_range=(1, 2), norm='l2',\n",
              "                                 preprocessor=None, smooth_idf=True,\n",
              "                                 stop_words=None, strip_accents=None,\n",
              "                                 sublinear_tf=False,\n",
              "                                 token_pattern='(?u)\\\\b\\\\w\\\\w+\\\\b',\n",
              "                                 tokenizer=None, use_idf=True,\n",
              "                                 vocabulary=None)),\n",
              "                ('clf',\n",
              "                 MultinomialNB(alpha=1.0, class_prior=None, fit_prior=True))],\n",
              "         verbose=False)"
            ]
          },
          "metadata": {
            "tags": []
          },
          "execution_count": 92
        }
      ]
    },
    {
      "cell_type": "markdown",
      "metadata": {
        "id": "oUCg3Li8GspE",
        "colab_type": "text"
      },
      "source": [
        "# Определение языка"
      ]
    },
    {
      "cell_type": "markdown",
      "metadata": {
        "id": "96c0rI5yGspF",
        "colab_type": "text"
      },
      "source": [
        "Определите язык каждого комментария в каждом паблике с помощью определялки на частотах слов и покажите доли языков среди комментариев для каждого паблика."
      ]
    },
    {
      "cell_type": "code",
      "metadata": {
        "id": "lv34AsVUGspH",
        "colab_type": "code",
        "colab": {}
      },
      "source": [
        "lang_detects_freqs = {}\n",
        "\n",
        "for public in corpora.keys():\n",
        "  public_langs = []\n",
        "  for text in corpora[public]:\n",
        "    try:\n",
        "      if lang_detect_freq(freq_lists, text)[0][1] > 0:\n",
        "        public_langs.append(lang_detect_freq(freq_lists, text)[0][0])\n",
        "      else:\n",
        "        public_langs.append('none')\n",
        "    except IndexError:\n",
        "      public_langs.append('none')\n",
        "  lang_detects_freqs[public] = Counter(public_langs)"
      ],
      "execution_count": 0,
      "outputs": []
    },
    {
      "cell_type": "code",
      "metadata": {
        "id": "UcYM33B4y5IF",
        "colab_type": "code",
        "colab": {
          "base_uri": "https://localhost:8080/",
          "height": 119
        },
        "outputId": "e17c884a-b7c5-4d8e-e383-17aade8f1252"
      },
      "source": [
        "lang_detects_freqs"
      ],
      "execution_count": 96,
      "outputs": [
        {
          "output_type": "execute_result",
          "data": {
            "text/plain": [
              "{'amanzohel': Counter({'bxr': 11, 'none': 78, 'ru': 13, 'uk': 9}),\n",
              " 'barg_kurumk_culture': Counter({'bxr': 12, 'none': 65, 'ru': 42, 'uk': 11}),\n",
              " 'eternalclassic': Counter({'en': 271, 'none': 228, 'uk': 40}),\n",
              " 'futureisnow': Counter({'en': 6, 'none': 310, 'ru': 267, 'uk': 161}),\n",
              " 'ukrainer_net': Counter({'none': 71, 'ru': 12, 'uk': 108}),\n",
              " 'ukrlit_memes': Counter({'en': 2, 'none': 92, 'ru': 19, 'uk': 100})}"
            ]
          },
          "metadata": {
            "tags": []
          },
          "execution_count": 96
        }
      ]
    },
    {
      "cell_type": "code",
      "metadata": {
        "id": "WJomMhVc3Qdp",
        "colab_type": "code",
        "colab": {}
      },
      "source": [
        "import matplotlib.pyplot as plt"
      ],
      "execution_count": 0,
      "outputs": []
    },
    {
      "cell_type": "code",
      "metadata": {
        "id": "OqQzkco8_vuK",
        "colab_type": "code",
        "colab": {}
      },
      "source": [
        "def draw_chart(public, dic):\n",
        "\n",
        "  labels = dic[public].keys()\n",
        "  values = dic[public].values()\n",
        "\n",
        "  fig1, ax1 = plt.subplots()\n",
        "  ax1.pie(values, labels=labels, startangle=90, autopct='%1.1f%%')\n",
        "\n",
        "  plt.title(public)\n",
        "  plt.show()"
      ],
      "execution_count": 0,
      "outputs": []
    },
    {
      "cell_type": "code",
      "metadata": {
        "id": "QaRsx2alEyQM",
        "colab_type": "code",
        "colab": {
          "base_uri": "https://localhost:8080/",
          "height": 1000
        },
        "outputId": "f420967e-e7e8-40ef-fc79-51156e7c7ea0"
      },
      "source": [
        "for public in publics:\n",
        "  draw_chart(public, lang_detects_freqs)"
      ],
      "execution_count": 114,
      "outputs": [
        {
          "output_type": "display_data",
          "data": {
            "image/png": "[encoded data removed]",
            "text/plain": [
              "<Figure size 432x288 with 1 Axes>"
            ]
          },
          "metadata": {
            "tags": []
          }
        },
        {
          "output_type": "display_data",
          "data": {
            "image/png": "[encoded data removed]",
            "text/plain": [
              "<Figure size 432x288 with 1 Axes>"
            ]
          },
          "metadata": {
            "tags": []
          }
        },
        {
          "output_type": "display_data",
          "data": {
            "image/png": "[encoded data removed]",
            "text/plain": [
              "<Figure size 432x288 with 1 Axes>"
            ]
          },
          "metadata": {
            "tags": []
          }
        },
        {
          "output_type": "display_data",
          "data": {
            "image/png": "[encoded data removed]",
            "text/plain": [
              "<Figure size 432x288 with 1 Axes>"
            ]
          },
          "metadata": {
            "tags": []
          }
        },
        {
          "output_type": "display_data",
          "data": {
            "image/png": "[encoded data removed]",
            "text/plain": [
              "<Figure size 432x288 with 1 Axes>"
            ]
          },
          "metadata": {
            "tags": []
          }
        },
        {
          "output_type": "display_data",
          "data": {
            "image/png": "[encoded data removed]",
            "text/plain": [
              "<Figure size 432x288 with 1 Axes>"
            ]
          },
          "metadata": {
            "tags": []
          }
        }
      ]
    },
    {
      "cell_type": "markdown",
      "metadata": {
        "id": "XzcozJbRGspJ",
        "colab_type": "text"
      },
      "source": [
        "Сделайте то же самое для определителя на символьных энграммах."
      ]
    },
    {
      "cell_type": "code",
      "metadata": {
        "id": "q4s5muLHGspK",
        "colab_type": "code",
        "colab": {}
      },
      "source": [
        "lang_detects_ngrams = {}\n",
        "\n",
        "for public in corpora.keys():\n",
        "  public_langs = clf.predict(corpora[public])\n",
        "  lang_detects_ngrams[public] = Counter(public_langs)"
      ],
      "execution_count": 0,
      "outputs": []
    },
    {
      "cell_type": "code",
      "metadata": {
        "id": "0yHTUCdT8EfT",
        "colab_type": "code",
        "colab": {
          "base_uri": "https://localhost:8080/",
          "height": 119
        },
        "outputId": "ee213aec-91ed-404c-f51c-315487d1f15f"
      },
      "source": [
        "lang_detects_ngrams"
      ],
      "execution_count": 94,
      "outputs": [
        {
          "output_type": "execute_result",
          "data": {
            "text/plain": [
              "{'amanzohel': Counter({'bxr': 77, 'ru': 34}),\n",
              " 'barg_kurumk_culture': Counter({'bxr': 37, 'ru': 92, 'uk': 1}),\n",
              " 'eternalclassic': Counter({'en': 537, 'uk': 2}),\n",
              " 'futureisnow': Counter({'bxr': 10, 'en': 38, 'ru': 685, 'uk': 11}),\n",
              " 'ukrainer_net': Counter({'bxr': 1, 'en': 5, 'ru': 54, 'uk': 131}),\n",
              " 'ukrlit_memes': Counter({'bxr': 4, 'en': 4, 'ru': 78, 'uk': 127})}"
            ]
          },
          "metadata": {
            "tags": []
          },
          "execution_count": 94
        }
      ]
    },
    {
      "cell_type": "code",
      "metadata": {
        "id": "EQpN_lZIFYH-",
        "colab_type": "code",
        "colab": {
          "base_uri": "https://localhost:8080/",
          "height": 1000
        },
        "outputId": "7a13e2b6-2561-442a-d3b2-a107dd74d5de"
      },
      "source": [
        "for public in publics:\n",
        "  draw_chart(public, lang_detects_ngrams)"
      ],
      "execution_count": 115,
      "outputs": [
        {
          "output_type": "display_data",
          "data": {
            "image/png": "[encoded data removed]",
            "text/plain": [
              "<Figure size 432x288 with 1 Axes>"
            ]
          },
          "metadata": {
            "tags": []
          }
        },
        {
          "output_type": "display_data",
          "data": {
            "image/png": "[encoded data removed]",
            "text/plain": [
              "<Figure size 432x288 with 1 Axes>"
            ]
          },
          "metadata": {
            "tags": []
          }
        },
        {
          "output_type": "display_data",
          "data": {
            "image/png": "[encoded data removed]",
            "text/plain": [
              "<Figure size 432x288 with 1 Axes>"
            ]
          },
          "metadata": {
            "tags": []
          }
        },
        {
          "output_type": "display_data",
          "data": {
            "image/png": "[encoded data removed]",
            "text/plain": [
              "<Figure size 432x288 with 1 Axes>"
            ]
          },
          "metadata": {
            "tags": []
          }
        },
        {
          "output_type": "display_data",
          "data": {
            "image/png": "[encoded data removed]",
            "text/plain": [
              "<Figure size 432x288 with 1 Axes>"
            ]
          },
          "metadata": {
            "tags": []
          }
        },
        {
          "output_type": "display_data",
          "data": {
            "image/png": "[encoded data removed]",
            "text/plain": [
              "<Figure size 432x288 with 1 Axes>"
            ]
          },
          "metadata": {
            "tags": []
          }
        }
      ]
    },
    {
      "cell_type": "markdown",
      "metadata": {
        "id": "xdiUX0TrGspN",
        "colab_type": "text"
      },
      "source": [
        "Обсудите работу каждого из классификаторов, обсудите ошибки, объясните разницу в результатах."
      ]
    },
    {
      "cell_type": "markdown",
      "metadata": {
        "id": "dalArL1uGspO",
        "colab_type": "text"
      },
      "source": [
        "Проблемы классификатора по частотному списку:\n",
        "\n",
        "- очень много постов, где не определился язык\n",
        "- неоправданно много украинского в большинстве сообществ\n",
        "\n",
        "Результат классификатора по энграммам кажется более приближенным к реальности хотя иногда появляется, например, не слишком ожидаемый бурятский.\n",
        "\n",
        "Классификатор по частотному списку работает хуже, потому что сильно завязан на конкретных словах, которых может и не быть в коротких текстах комментариев. Кроме того, список частотных слов может быть не слишком общим в зависимости от того, какие статьи википедии попали в выборку (что если несколько страниц про котиков и котики станут очень частым словом?). \n",
        "Классификатор по энграммам не привязан к конкретным словам поэтому работает лучше. Но это не точно, потому что мы не пробовали считать долю правильных ответов."
      ]
    }
  ]
}